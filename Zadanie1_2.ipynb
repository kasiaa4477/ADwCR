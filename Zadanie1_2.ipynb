{
 "cells": [
  {
   "cell_type": "code",
   "execution_count": null,
   "id": "3cdbe506-363a-42ad-b712-ebf653258c0d",
   "metadata": {},
   "outputs": [],
   "source": [
    "%%file app.py\n",
    "from flask import Flask\n",
    "\n",
    "app = Flask(__name__)\n",
    "\n",
    "@app.route(\"/\")\n",
    "def home():\n",
    "    return \"Witaj w moim API!\"\n",
    "\n",
    "if __name__ == \"__main__\":\n",
    "    app.run(debug=True)"
   ]
  },
  {
   "cell_type": "code",
   "execution_count": null,
   "id": "b42a9b7e-2447-451e-a1c1-0e18db73c137",
   "metadata": {},
   "outputs": [],
   "source": [
    "import requests\n",
    "response = requests.get(\"http://127.0.0.1:5000\")\n",
    "print(response.content)"
   ]
  },
  {
   "cell_type": "code",
   "execution_count": null,
   "id": "0d80d725-a640-439b-bfc9-22acf6ebd80e",
   "metadata": {},
   "outputs": [],
   "source": [
    "%%file app.py\n",
    "from flask import Flask\n",
    "\n",
    "app = Flask(__name__)\n",
    "\n",
    "@app.route(\"/\")\n",
    "def home():\n",
    "    return \"Witaj w moim API!\"\n",
    "\n",
    "@app.route(\"/mojastrona\")\n",
    "def my_page():\n",
    "    return \"To jest moja strona!\"\n",
    "\n",
    "if __name__ == \"__main__\":\n",
    "    app.run(host=\"0.0.0.0\", debug=True)"
   ]
  },
  {
   "cell_type": "code",
   "execution_count": null,
   "id": "da9f8bfe-775f-4341-ba54-a5bfb146c90e",
   "metadata": {},
   "outputs": [],
   "source": [
    "import requests\n",
    "response = requests.get(\"http://127.0.0.1:5000/mojastrona\")\n",
    "print(response.content)"
   ]
  },
  {
   "cell_type": "code",
   "execution_count": null,
   "id": "180e1210-26af-443f-8658-3ac69053db28",
   "metadata": {},
   "outputs": [],
   "source": [
    "import subprocess\n",
    "server = subprocess.Popen([\"python\", \"app.py\"])"
   ]
  },
  {
   "cell_type": "code",
   "execution_count": null,
   "id": "5a47a77f-4576-4582-822a-0f41f5cc9e6f",
   "metadata": {},
   "outputs": [],
   "source": [
    "server.kill()"
   ]
  },
  {
   "cell_type": "code",
   "execution_count": null,
   "id": "d898e753-9a25-44f4-8f96-514ebe237ab8",
   "metadata": {},
   "outputs": [],
   "source": [
    "%%file app.py\n",
    "from flask import Flask, request\n",
    "\n",
    "app = Flask(__name__)\n",
    "\n",
    "@app.route(\"/\")\n",
    "def home():\n",
    "    return \"Witaj w moim API!\"\n",
    "\n",
    "@app.route(\"/mojastrona\")\n",
    "def my_page():\n",
    "    return \"To jest moja strona!\"\n",
    "\n",
    "@app.route(\"/hello\")\n",
    "def hello():\n",
    "    name = request.args.get(\"name\", \"!\")\n",
    "    return f\"Hello {name}\"\n",
    "\n",
    "if __name__ == \"__main__\":\n",
    "    app.run(host=\"0.0.0.0\", debug=True)"
   ]
  },
  {
   "cell_type": "code",
   "execution_count": null,
   "id": "faec4caf-917d-43a6-855e-e4485219139d",
   "metadata": {},
   "outputs": [],
   "source": [
    "import requests\n",
    "\n",
    "res1 = requests.get(\"http://127.0.0.1:5000/hello\")\n",
    "print(res1.content.decode(\"utf-8\"))  # Powinno zwrócić \"Hello !\"\n",
    "\n",
    "res2 = requests.get(\"http://127.0.0.1:5000/hello?name=Kasia\")\n",
    "print(res2.content.decode(\"utf-8\"))  # Powinno zwrócić \"Kasia\""
   ]
  },
  {
   "cell_type": "code",
   "execution_count": null,
   "id": "d79649e0-b0e4-43d7-a665-7691becda1e9",
   "metadata": {},
   "outputs": [],
   "source": [
    "%%file app.py\n",
    "from flask import Flask, request, jsonify\n",
    "\n",
    "app = Flask(__name__)\n",
    "\n",
    "@app.route(\"/\")\n",
    "def home():\n",
    "    return \"Witaj w moim API!\"\n",
    "\n",
    "@app.route(\"/mojastrona\")\n",
    "def my_page():\n",
    "    return \"To jest moja strona!\"\n",
    "\n",
    "@app.route(\"/hello\")\n",
    "def hello():\n",
    "    name = request.args.get(\"name\", \"!\")\n",
    "    return f\"Hello {name}\"\n",
    "\n",
    "@app.route(\"/api/v1.0/predict\")\n",
    "def predict():\n",
    "    try:\n",
    "        num1 = float(request.args.get(\"num1\", 0))\n",
    "        num2 = float(request.args.get(\"num2\", 0))\n",
    "        prediction = 1 if (num1 + num2) > 5.8 else 0\n",
    "        \n",
    "        return jsonify({\n",
    "            \"prediction\": prediction,\n",
    "            \"features\": {\n",
    "                \"num1\": num1,\n",
    "                \"num2\": num2\n",
    "            }\n",
    "        })\n",
    "    except ValueError:\n",
    "        return jsonify({\"error\": \"Podano nieprawidłowe wartości numeryczne\"}), 400\n",
    "\n",
    "if __name__ == \"__main__\":\n",
    "    app.run(host=\"0.0.0.0\", debug=True)"
   ]
  },
  {
   "cell_type": "code",
   "execution_count": null,
   "id": "026dc37a-848b-4e07-8309-15454aea227d",
   "metadata": {},
   "outputs": [],
   "source": [
    "import requests\n",
    "res = requests.get(\"http://127.0.0.1:5000/api/v1.0/predict?num1=3&num2=4\")\n",
    "print(res.json())"
   ]
  }
 ],
 "metadata": {
  "kernelspec": {
   "display_name": "Python 3 (ipykernel)",
   "language": "python",
   "name": "python3"
  },
  "language_info": {
   "codemirror_mode": {
    "name": "ipython",
    "version": 3
   },
   "file_extension": ".py",
   "mimetype": "text/x-python",
   "name": "python",
   "nbconvert_exporter": "python",
   "pygments_lexer": "ipython3",
   "version": "3.12.7"
  }
 },
 "nbformat": 4,
 "nbformat_minor": 5
}
